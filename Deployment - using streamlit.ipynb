{
 "cells": [
  {
   "cell_type": "code",
   "execution_count": 19,
   "id": "3f401e96-5291-4b8b-b43d-8250bf98ff27",
   "metadata": {},
   "outputs": [
    {
     "name": "stdout",
     "output_type": "stream",
     "text": [
      "Overwriting app.py\n"
     ]
    }
   ],
   "source": [
    "%%writefile app.py\n",
    "\n",
    "import streamlit as st\n",
    "import pickle\n",
    "import numpy as np \n",
    "import pandas as pd\n",
    "\n",
    "\n",
    "## load the instances that were created\n",
    "with open('xgbc_model.pkl','rb') as file:\n",
    "    final_model = pickle.load(file)\n",
    "    \n",
    "# Encoding mappings\n",
    "operator_mapping = {'Airtel': 0, 'BSNL': 1, 'Idea': 2, 'MTNL': 3, 'Others': 4, 'RJio': 5, 'Tata': 6, 'Vodafone': 7}\n",
    "travel_mapping = {'Indoor': 0, 'Outdoor': 1, 'Travelling': 2}\n",
    "network_mapping = {'2G': 0, '3G': 1, '4G': 2, 'Unknown': 3}\n",
    "call_drop_mapping = {'Call Dropped': 0, 'Poor Voice Quality': 1, 'Satisfactory': 2}\n",
    "state_mapping = {'Andaman and Nicobar Islands': 0, 'Andhra Pradesh': 1, 'Assam': 2, 'Bihar': 3, 'Chandigarh': 4,\n",
    "                 'Chhattisgarh': 5, 'Dadra and Nagar Haveli': 6, 'Delhi': 7, 'Goa': 8, 'Gujarat': 9, 'Haryana': 10,\n",
    "                 'Himachal Pradesh': 11, 'Jharkhand': 12, 'Karnataka': 13, 'Kashmir': 14, 'Kerala': 15, 'Madhya Pradesh': 16,\n",
    "                 'Maharashtra': 17, 'Meghalaya': 18, 'Odisha': 19, 'Pondicherry': 20, 'Punjab': 21, 'Rajasthan': 22, 'Tamil Nadu': 23,\n",
    "                 'Telangana': 24, 'Tripura': 25, 'Uttar Pradesh': 26, 'Uttarakhand': 27, 'West Bengal': 28}\n",
    "month_mapping = {'August': 0, 'July': 1, 'September': 2}\n",
    "region_mapping = {'Central': 1, 'East': 0, 'North': 2, 'Northeast': 3, 'South': 4, 'West': 5}\n",
    "\n",
    "\n",
    "# Prediction function\n",
    "def prediction(Operator, In_Out_Travelling, Network_Type, Call_Drop_Category, Latitude, Longitude, State_Name, Month, Region):\n",
    "    input_data = np.array([[Operator, In_Out_Travelling, Network_Type, Call_Drop_Category, Latitude, Longitude, State_Name, Month, Region]])\n",
    "    pred = final_model.predict(input_data)\n",
    "    return f'Predicted Rating: {pred[0] + 1}'\n",
    "\n",
    "\n",
    "# Streamlit App\n",
    "def main():\n",
    "    # Add an image at the top\n",
    "    st.image('Picture1.png', width=250)\n",
    "    st.title('Voice Call Quality Rating Prediction')\n",
    "    st.write(\"This application predicts the Voice Call Quality Rating based on network operator, call environment, location, and other factors.\")\n",
    "\n",
    "    # Dropdown menus for categorical inputs (with encoding)\n",
    "    operator = st.selectbox('Select Operator', ['Select'] + list(operator_mapping.keys()))\n",
    "    in_out_travel = st.selectbox('In/Out/Travel', ['Select'] + list(travel_mapping.keys()))\n",
    "    network_type = st.selectbox('Select Network Type', ['Select'] + list(network_mapping.keys()))\n",
    "    call_drop_category = st.selectbox('Please select the category that best describes your last call experience', ['Select'] + list(call_drop_mapping.keys()))\n",
    "    state_name = st.selectbox('Select State', ['Select'] + list(state_mapping.keys()))\n",
    "    month = st.selectbox('Select Month', ['Select'] + list(month_mapping.keys()))\n",
    "    region = st.selectbox('Select Region', ['Select'] + list(region_mapping.keys()))\n",
    "    \n",
    "    # Numeric inputs for latitude and longitude\n",
    "    latitude = st.number_input('Enter the latitude of your location in India (Range: 8.4 - 37.6)', min_value=8.4, max_value=37.6, format=\"%.6f\")\n",
    "    longitude = st.number_input('Enter the longitude of your location in India (Range: 68.7 - 97.25)', min_value=68.7, max_value=97.25, format=\"%.6f\")\n",
    "\n",
    "    if st.button('Predict'):\n",
    "        # Convert selections to encoded values\n",
    "        encoded_operator = operator_mapping[operator]\n",
    "        encoded_travel = travel_mapping[in_out_travel]\n",
    "        encoded_network = network_mapping[network_type]\n",
    "        encoded_call_drop = call_drop_mapping[call_drop_category]\n",
    "        encoded_state = state_mapping[state_name]\n",
    "        encoded_month = month_mapping[month]\n",
    "        encoded_region = region_mapping[region]\n",
    "\n",
    "        # Make prediction\n",
    "        response = prediction(encoded_operator, encoded_travel, encoded_network, encoded_call_drop, latitude, longitude, encoded_state, encoded_month, encoded_region)\n",
    "        st.success(response)\n",
    "\n",
    "if __name__ == '__main__':\n",
    "    main()"
   ]
  }
 ],
 "metadata": {
  "kernelspec": {
   "display_name": "Python 3 (ipykernel)",
   "language": "python",
   "name": "python3"
  },
  "language_info": {
   "codemirror_mode": {
    "name": "ipython",
    "version": 3
   },
   "file_extension": ".py",
   "mimetype": "text/x-python",
   "name": "python",
   "nbconvert_exporter": "python",
   "pygments_lexer": "ipython3",
   "version": "3.12.4"
  }
 },
 "nbformat": 4,
 "nbformat_minor": 5
}
